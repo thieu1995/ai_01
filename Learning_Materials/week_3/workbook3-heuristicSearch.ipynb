{
 "cells": [
  {
   "cell_type": "markdown",
   "metadata": {
    "pycharm": {
     "name": "#%% md\n"
    }
   },
   "source": [
    "# Workbook 3: Informed Search Algorithms\n",
    "\n",
    "## Introduction\n",
    "This practical uses a simple easy-to-visualise optimisation problem to illustrate the properties of different search algorithms.\n",
    "The problem is this:\n",
    "- We are given  a model of a problem in terms of a graph  - which we can visualise as a maze.\n",
    "- We are given a starting position and the desired endpoint (goal)\n",
    "- The problem is to find a sequence of inputs that takes us from the start to the goal, preferably in as few moves as possible.\n",
    "\n",
    "## Aims of this practical\n",
    "1. To give you the opportunity to demonstrate your understanding by implementing the code needed to create different search algorithms.\n",
    "2. To give you experience of comparing the behaviour of different search algorithms.\n",
    "3. To give you experience of evaluating the efficiency of an algorithm for a problem ( in this case path-planning) by creating different instances of a problem (mazes) to *stress-test* different methods. \n",
    "\n",
    "\n",
    "<div class=\"alert alert-block alert-danger\" style=\"color:black\">\n",
    "    <h2> This is an assessed practical</h2>\n",
    "    When you are satisfied that you have completed the activities as required you should:\n",
    "    <ol>\n",
    "        <li> Save your notebooks and download them to your local machine.</li>\n",
    "        <li> Submit them for automatic marking and feedback <ul>\n",
    "            <li>by following the links in the <i>Assessments</i> folder on Blackboard.</li>\n",
    "            <li> This may invovle answering some multiple choices questions s well a submitting your code.</li>\n",
    "            </ul>\n",
    "        <li> <b>Read the feedback provided</b> and use it to improve your work.<br>\n",
    "            You will have four attemtps to submit each notebook.</li>\n",
    "    </ol></div>\n",
    " \n",
    "   "
   ]
  },
  {
   "cell_type": "markdown",
   "metadata": {
    "pycharm": {
     "name": "#%% md\n"
    }
   },
   "source": [
    "## Background\n",
    "\n",
    "As discussed in the lectures, we consider a general generate-and-test framwework for search that can be easily:\n",
    "- adapted to provide algorithms with different behaviours\n",
    "- applied to many different problems.\n",
    "This is illustrated in the flowchart below.\n",
    "\n",
    "<img src = \"figures/generate-and-test-framework.png\">\n",
    "\n",
    "In this week's lecture presentation ( available in the notebook **W3_Inforned_Search_Algorithms.ipynb**)\n",
    "we discussed how to create different algorithms, with different behaviours, just by adapting the function **select_and_move_from_openlist()**.\n",
    "\n",
    "In last week's lab session you should have:\n",
    "1. Got familiar with a general implementation framework we provided with classes for:\n",
    "  - **SingleMemberSearch**\n",
    "  - **Problem**\n",
    "  - **CandidateSolution**\n",
    "2. Created your own search subclasses **DepthfirstSearch** and **BreadthFirstSearch** \n",
    "  - by over-riding the function **select_and_move_from_openlist()**\n",
    "3. Applied those algorithms to two sublasses of problem: **CombinationLock** and **FoxChickenGrain**\n",
    "\n",
    "\n",
    "## This week\n",
    "You will extend that work to:\n",
    "1. Create your own implementations of the algorithms **LocalSearch**, **BestFirstSearch**, and **AStarSearch**\n",
    "2. Test their behaviour on a simple maze problem \n",
    "   because it is easy to visualise, and  many search graphs can be represented as  mazes.\n",
    "3. **Test your understanding** by making mazes that *break* different algorithms."
   ]
  },
  {
   "cell_type": "markdown",
   "metadata": {
    "pycharm": {
     "name": "#%% md\n"
    }
   },
   "source": [
    "<div style=\"color:black;background:#AFE1AF\">\n",
    " <h2>Refresher: finding things in a list with python according to some criteria</h2>\n",
    "    <h3> You can skip reading this box if you are comfortable with how to do this</h3>\n",
    "    <ul>\n",
    "        <li> A python list (let's call it <i>my_list</i>) holds a collection of objects, usually of the same type. </li>\n",
    "        <li> If you have a list <i>my_list</i> with n elements, then <i>len(myList) = n</i> </li>\n",
    "    <li> This is true whether the elements are chars, ints, float, or objects of some class</li>\n",
    "    </ul>\n",
    "    <p> If  <i>my_list</i> holds elements (objects) of a type that has an attribute <i>cost</i>, and we want to find the index (position) of the element one with the lowest value, we do it with a loop. Start in position 0, then loop through every thing in the list one by one, looking at the value of <i>cost</i>each element, remembering the position (index) of the one with the lowest <i>cost</i>.</p>\n",
    "    <p> In code this looks like:</p>\n",
    "    <pre lang=\"python\" style=\"background:#F1F1F1\">    \n",
    "   best_index = 0\n",
    "   <span style=\"color:green\">for</span> i <span style=\"color:green\">in range</span> (<span style=\"color:green\">len</span> (my_list) ):    <span style=\"color:blue\"># for historical reasons we often use i as the name of a loop variable </span>\n",
    "       <span style=\"color:green\">if</span> my_list[i].cost < my_list[best_index].cost : \n",
    "           best_index = i\n",
    "   </pre>\n",
    "\n",
    "<p> So at the end of this process the variable best_index tells us the index of the \"best\" element in that list according to our choice criteria (minimising cost).\n",
    "<ul>\n",
    "<li>If we want to use something else as our criteria, we just change the if statement.</li>\n",
    "<li>Sometimes you might choose to store the value <i> best_so_far = my_list[best_index].cost</i> <br>\n",
    "and use that in the comparison (line 3 above) to make your code more readable (shorter lines)<br>\n",
    "- you just need to update <i>best_so_far</i> as well as <i>best_index</i> inside the <b>if</b> statement.</li>\n",
    "</ul>\n",
    "So this different version of the code does the same thing but you may find it easier to read.\n",
    "<pre lang=\"python\" style=\"background:#F1F1F1\">\n",
    "    best_index = 0\n",
    "    best_so_far = my_list[0].cost\n",
    "    <span style=\"color:green\">for</span> index <span style=\"color:green\">in range</span> (len (my_list) ): \n",
    "        this_cost= my_list[index].cost\n",
    "        <span style=\"color:green\">if</span> this_cost < best_so_far: \n",
    "            best_index = index\n",
    "            best_so_far = this_cost\n",
    "</pre>\n",
    "</div>\n",
    "                                       \n",
    "                                       \n",
    "                                       "
   ]
  },
  {
   "cell_type": "markdown",
   "metadata": {
    "pycharm": {
     "name": "#%% md\n"
    }
   },
   "source": [
    ".\n",
    "\n",
    ".\n",
    "\n",
    ".\n",
    "\n",
    ".\n",
    "."
   ]
  },
  {
   "cell_type": "markdown",
   "metadata": {
    "pycharm": {
     "name": "#%% md\n"
    }
   },
   "source": [
    "# Part One: Familiarising yourself with the code framework\n",
    "From last week you should be familiar with the basic classes in our framework:\n",
    "- **Problem()**\n",
    "- **CandidateSolution**\n",
    "- **SingleMemberSearch**\n",
    "\n",
    "and you should have created two subclasses:\n",
    "- **DepthFirstSearch**\n",
    "- **BreadthFirstSearch**\n",
    "\n",
    "**If you have not done worksheet 2, go back and do that first**\n",
    "- Otherwise you will probably waste a lot of time.\n",
    "\n",
    "If you want to look at the maze code it is in the file *maze.py*  \n",
    "- it's a little complex, mostly to do with translating a lot between:\n",
    "  - one-d arrays (cells have single index) and \n",
    "  - 2-d arrays (cells referenced by row  and column co-ordinates)\n",
    "- so you may prefer to focus on your code implementation of different algorithms\n",
    "The file *maze.txt* provides a definition for **one specific** maze instance. "
   ]
  },
  {
   "cell_type": "markdown",
   "metadata": {
    "pycharm": {
     "name": "#%% md\n"
    }
   },
   "source": [
    "<div class=\"alert alert-block alert-warning\" style=\"color:black\">\n",
    "    <h1>Activity: Testing your Depth-first and Breadth-First Search code on the maze</h1>\n",
    "    <h2>30 marks</h2>.\n",
    "    Take the steps below to run and test your code from last week on the maze problems.<ol>\n",
    "        <li> Run the first cell below to import the Maze Class</li>\n",
    "        <li> <b><i>Optionally</i></b> run the second cell below to see the help from the class' docstrings.</li>\n",
    "        <li> Run the third cell to define a method that will run an algorithm on the maze</li>\n",
    "    <li> Copy-paste your class code for <b>DepthFirstSearch</b> from workbook2 into the fourth cell below.<br>\n",
    "            Then run that cell so you can see if your code solves the maze.<br>\n",
    "             If there are errors fix them before you proceed.</li>\n",
    "    <li> Copy-paste your class code for <b>BreadthFirstSearch</b> from workbook2 into the fifth cell below.<br>\n",
    "            Then run that cell so you see if your code solves the maze.<br>\n",
    "             If there are errors fix them before you proceed.</li>\n",
    "        <li> Run cell six which defines tests for your code, then seven and eight which runs them for your two classes.<ul>\n",
    "             <li>Make sure you understand what the code is doing. </li>\n",
    "            <li>The values for number of trials and length of path come from my reference implementation.</li>\n",
    "            <li> <b>Your code should solve the maze</b> and produce the same values.</li>\n",
    "            </ul>\n",
    "    </ol>\n",
    "    <p>If your code passed the tests for the <b>CombinationLock</b> problem last week it should work fine.<br>\n",
    "        If not:</p><ul>\n",
    "    <li>Edit your code in the cells below</li>\n",
    "    <li> <b> Important</b> the __str__() method must return the same string as I use in cell 6 below</li>\n",
    "    <li>Rerun those cells to tell python to use the edited versions.</li>\n",
    "    <li> Then rerun the test cells as necessary</li>\n",
    "    <li> You can turn on printing of the runlog in the test cells if it helps you debug your code.</li>\n",
    "    </ul>\n",
    "</div>\n",
    "\n",
    "<div class=\"alert alert-block alert-warning\" style=\"color:black\">\n",
    "    <h2> If you find the screen flickering disturbing</h2>\n",
    "    <b> Apologies!</b>\n",
    "       There is a trade-off between how long to pause after each move which affects the time taken to do a run, and how likely the screen is to flicker.  It can be hard to judge that with a distributed server.\n",
    "    <ul>\n",
    "        <li>open the file <i>maze.py</i> in the jupyter editor. </li>\n",
    "        <li> increase the default value of <i>refresh_rate</i> on line 94</li>\n",
    "        <li>rerun the first cell below to reload the Maze class</li></ul>\n",
    " </div>"
   ]
  },
  {
   "cell_type": "code",
   "execution_count": null,
   "metadata": {
    "tags": [],
    "pycharm": {
     "name": "#%%\n"
    }
   },
   "outputs": [],
   "source": [
    "# Cell 1\n",
    "# you MUST run this cell\n",
    "\n",
    "from importlib import reload\n",
    "\n",
    "# the libraries writtten for this course\n",
    "from singlemembersearch import SingleMemberSearch\n",
    "\n",
    "# doing it this way lets you edit maze without retstating the kernel\n",
    "import maze\n",
    "\n",
    "reload(maze)\n",
    "from maze import Maze"
   ]
  },
  {
   "cell_type": "code",
   "execution_count": null,
   "metadata": {
    "tags": [],
    "pycharm": {
     "name": "#%%\n"
    }
   },
   "outputs": [],
   "source": [
    "# Cell 2\n",
    "# Running this cell gives you a list of class methods and what they do\n",
    "help(Maze)"
   ]
  },
  {
   "cell_type": "code",
   "execution_count": null,
   "metadata": {
    "tags": [],
    "pycharm": {
     "name": "#%%\n"
    }
   },
   "outputs": [],
   "source": [
    "# Cell 3\n",
    "def run_on_maze(\n",
    "    algorithm: SingleMemberSearch, show_runlog: bool = False, mazefile: str = \"maze.txt\"\n",
    ") -> tuple[int, int]:\n",
    "    mymaze = Maze(mazefile=\"maze.txt\")\n",
    "    mysearch = algorithm(mymaze, constructive=True, max_attempts=1500)\n",
    "    name = mysearch.__str__()\n",
    "    trials = -1\n",
    "    moves = -1\n",
    "    found = mysearch.run_search()\n",
    "    if found:\n",
    "        trials = mysearch.trials\n",
    "        moves = len(mysearch.result)\n",
    "        print(\n",
    "            f\"search using {mysearch.__str__()} algorithm successful after {trials} attempts\"\n",
    "            f\" length of path is {moves} moves.\"\n",
    "        )\n",
    "    else:\n",
    "        print(\"solution not found in time allowed\")\n",
    "        if show_runlog:\n",
    "            print(mysearch.runlog)\n",
    "\n",
    "    del mymaze\n",
    "    return trials, moves, name"
   ]
  },
  {
   "cell_type": "code",
   "execution_count": null,
   "metadata": {
    "tags": [],
    "pycharm": {
     "name": "#%%\n"
    }
   },
   "outputs": [],
   "source": [
    "# Cell 4\n",
    "# Copy-paste your class code for DepthFirstSearch from last week to here\n",
    "\n",
    "\n",
    "run_on_maze(DepthFirstSearch)"
   ]
  },
  {
   "cell_type": "code",
   "execution_count": null,
   "metadata": {
    "tags": [],
    "pycharm": {
     "name": "#%%\n"
    }
   },
   "outputs": [],
   "source": [
    "# Cell 5\n",
    "# Copy-paste your class code for BreadthFirstSearch from last week to here\n",
    "\n",
    "\n",
    "run_on_maze(BreadthFirstSearch)"
   ]
  },
  {
   "cell_type": "code",
   "execution_count": null,
   "metadata": {
    "tags": [],
    "pycharm": {
     "name": "#%%\n"
    }
   },
   "outputs": [],
   "source": [
    "# Cell 6 general test code with my results in\n",
    "\n",
    "jims_results: dict = {\n",
    "    \"depth-first\": [408, 77],\n",
    "    \"breadth-first\": [1068, 57],\n",
    "    \"local search\": [-1, -1],\n",
    "    \"best-first\": [856, 57],\n",
    "    \"A Star\": [812, 57],\n",
    "}\n",
    "\n",
    "\n",
    "def test_on_maze(algorithm: SingleMemberSearch, mazefile=\"maze.txt\"):\n",
    "    trials, moves, name = run_on_maze(algorithm, mazefile)\n",
    "    correct_trials, correct_moves = jims_results[name]\n",
    "\n",
    "    print(f\"testing algorithm {name} on the simple maze.\")\n",
    "    if trials == -1 or moves == -1:\n",
    "        errstr1 = \"Error, the test suggests your code is not reaching the goal\"\n",
    "        errstr2 = \"Error, the test suggests your code is not reaching the goal\"\n",
    "\n",
    "    else:\n",
    "        errstr1 = (\n",
    "            f\"Error: your code is using {trials} trials \"\n",
    "            f\" but should only need {correct_trials}.\\n\"\n",
    "        )\n",
    "        errstr2 = (\n",
    "            f\"Error: your code finds a solution with {moves} \"\n",
    "            f\" but should only need {correct_moves}.\\n\"\n",
    "        )\n",
    "    assert trials == correct_trials, errstr1\n",
    "    assert moves == correct_moves, errstr2\n",
    "    print(\"test passed\")"
   ]
  },
  {
   "cell_type": "code",
   "execution_count": null,
   "metadata": {
    "tags": [],
    "pycharm": {
     "name": "#%%\n"
    }
   },
   "outputs": [],
   "source": [
    "# Cell 7 test depth-first\n",
    "\n",
    "\n",
    "print(\"Testing Depth-First Search\")\n",
    "test_on_maze(DepthFirstSearch)"
   ]
  },
  {
   "cell_type": "code",
   "execution_count": null,
   "metadata": {
    "tags": [],
    "pycharm": {
     "name": "#%%\n"
    }
   },
   "outputs": [],
   "source": [
    "# run this cell to test your breath-first implementation\n",
    "\n",
    "\n",
    "print(\"Testing Breadth-First Search\")\n",
    "test_on_maze(BreadthFirstSearch)"
   ]
  },
  {
   "cell_type": "code",
   "execution_count": null,
   "metadata": {
    "pycharm": {
     "name": "#%%\n"
    }
   },
   "outputs": [],
   "source": []
  },
  {
   "cell_type": "markdown",
   "metadata": {
    "pycharm": {
     "name": "#%% md\n"
    }
   },
   "source": [
    "<div class = \"alert alert-warning\" style=\"color:black\">\n",
    "    <h1> Activity Two: Implementing Best-First and A Star Search</h1>\n",
    "    <h2> 40 Marks</h2>\n",
    "    <p> For these two algorithms the cells below provide the pseudo-code, a partially completed implementation, and a test.</p> <p>This activity requires you to complete the code to produce classes which implement the algorithms, using the pseudocode as your guide.</p>\n",
    "        <p> You are strongly advised to proceed by:</p> <ol>\n",
    "        <li> Copying the pseudo-code into an appropriate place in the class code</li>\n",
    "        <li> Turning the pseudo-code into comments with spaces between for your code</li> \n",
    "        <li> Your code should start by checking whether the open list is empty <ul>\n",
    "            <li>  return None if open list is empty</li>\n",
    "            <li> Otherwise select and return the appropriate item from the openlist </li>\n",
    "            </ul>\n",
    "    <li> Then answer the multiple choice questions to check your understanding</li>\n",
    "        </ol>\n",
    "        <h3>Hints:</h3><ul>\n",
    "               <li> Use the reminder at the start of this workbook for how to select from a list by value</li>\n",
    "<li> Remember that each instance of the  class defines an attribute <i> self.open_list</i> </li>\n",
    "       <li>  Everything on that list should be of type <b>CandidateSolution</b> <br>\n",
    "           and have attributes <i> quality</i> and <i>variable_values</i>.</li>\n",
    "        <li> For any list <i>mylist</i> you can query how many things it holds via <i>len(mylist)</i></li>\n",
    "        </ul>\n",
    "    </div>"
   ]
  },
  {
   "cell_type": "markdown",
   "metadata": {
    "pycharm": {
     "name": "#%% md\n"
    }
   },
   "source": [
    "## Pseudocode for function SelectAndMoveFromOpenList in Best-First Search\n",
    "\n",
    "<div style=\"background:#F0FFFF\">\n",
    "<p style=\"color:darkredmargin-bottom:0pt\"><em>SelectAndMoveFromOpenList</em></p>\n",
    "<dl style=\"margin-top:0pt\">\n",
    "    <dt>&nbsp;&nbsp;&nbsp;<b>IF</b> IsEmpty( open_list) <b>THEN</b> </dt>\n",
    "    <dd> RETURN None</dd>\n",
    "    <dt> &nbsp;&nbsp;&nbsp;<b>ELSE</b></dt>\n",
    "    <dd>bestChild &larr; <b>GetMemberWithHighestQuality</b>(openList)</dd>\n",
    "    <dd> RETURN bestChild&nbsp;&nbsp;&nbsp;&nbsp;<span style=\"background:pink\">Best-First keeps the openlist to allow backtracking</span></dd>\n",
    "</dl>\n",
    "</div>   "
   ]
  },
  {
   "cell_type": "code",
   "execution_count": null,
   "metadata": {
    "pycharm": {
     "name": "#%%\n"
    }
   },
   "outputs": [],
   "source": [
    "class BestFirstSearch(SingleMemberSearch):\n",
    "    \"\"\"Implementation of Best-First   search.\n",
    "    You need to complete this\n",
    "    \"\"\"\n",
    "\n",
    "    def __str__(self):\n",
    "        return \"best-first\"\n",
    "\n",
    "    def select_and_move_from_openlist(self) -> CandidateSolution:\n",
    "        \"\"\"Implements Best First by finding, popping and returning member from openlist\n",
    "        with best quality.\n",
    "\n",
    "        Returns\n",
    "        -------\n",
    "        next working candidate (solution) taken from open list\n",
    "        \"\"\"\n",
    "        next_soln = CandidateSolution()\n",
    "        # ====> Your Code here <========\n",
    "        # Start by copy in pseudo-code\n",
    "        # then code to it\n",
    "        # mske sure you have read the specifications and hints above\n",
    "\n",
    "        return next_soln"
   ]
  },
  {
   "cell_type": "code",
   "execution_count": null,
   "metadata": {
    "tags": [],
    "pycharm": {
     "name": "#%%\n"
    }
   },
   "outputs": [],
   "source": [
    "# run this to test your implementation\n",
    "print(\"Testing Best-First Search\")\n",
    "test_on_maze(BestFirstSearch)"
   ]
  },
  {
   "cell_type": "markdown",
   "metadata": {
    "tags": [],
    "pycharm": {
     "name": "#%% md\n"
    }
   },
   "source": [
    "## Pseudocode for function SelectAndMoveFromOpenList in AStar Search\n",
    "\n",
    "<div style=\"background:#F0FFFF\">\n",
    "<p style=\"color:darkred;margin-bottom:0pt\"><em>SelectAndMoveFromOpenList</em></p>\n",
    "<dl style=\"margin-top:0pt\">\n",
    "    <dt>&nbsp;&nbsp;&nbsp;<b>IF</b> IsEmpty( open_list) <b>THEN</b> </dt>\n",
    "    <dd> RETURN None</dd>\n",
    "    <dt> &nbsp;&nbsp;&nbsp;<b>ELSE</b></dt>\n",
    "    <dd><span style=\"background:pink\">AStar picks using sum of quality +cost</span></dd>\n",
    "    <dd>bestChild &larr; <b>GetMemberWithHighestCombinedScore</b>(openList)</dd>\n",
    "    <dd> RETURN bestChild&nbsp;&nbsp;&nbsp;&nbsp;</dd>\n",
    "</dl>\n",
    "</div>   \n",
    "<div style=\"background:white\"> <h3>Note that</h3><ul>\n",
    "    <li>This is just like best-first with a modified selection.</li>\n",
    "    <li> To make more efficient you can track <i>bestSoFar</i> and modify <b>UpdateWorkingMemory()</b><br>\n",
    "        so it doesn't put things on the openlist if depth > bestSoFar </li></ul>  </div> "
   ]
  },
  {
   "cell_type": "code",
   "execution_count": null,
   "metadata": {
    "pycharm": {
     "name": "#%%\n"
    }
   },
   "outputs": [],
   "source": [
    "class AStarSearch(SingleMemberSearch):\n",
    "    \"\"\"Implementation of A Star  search.\n",
    "    You need to complete this\n",
    "    \"\"\"\n",
    "\n",
    "    def __str__(self):\n",
    "        return \"A Star\"\n",
    "\n",
    "    def select_and_move_from_openlist(self) -> CandidateSolution:\n",
    "        \"\"\"Implements AStar by finding, popping and returning member from openlist\n",
    "        with lowest combined length+quality.\n",
    "\n",
    "        Returns\n",
    "        -------\n",
    "        next working candidate (solution) taken from open list\n",
    "        \"\"\"\n",
    "        next_soln = CandidateSolution()\n",
    "        # ====> Your Code here <========\n",
    "        # Start by copy in pseudo-code\n",
    "        # then code to it\n",
    "        # mske sure you have read the specifications and hints above\n",
    "\n",
    "        return next_soln"
   ]
  },
  {
   "cell_type": "code",
   "execution_count": null,
   "metadata": {
    "tags": [],
    "pycharm": {
     "name": "#%%\n"
    }
   },
   "outputs": [],
   "source": [
    "# run. this to test your A Starprint('Testing Breadth-First Search')\n",
    "test_on_maze(AStarSearch)"
   ]
  },
  {
   "cell_type": "markdown",
   "metadata": {
    "pycharm": {
     "name": "#%% md\n"
    }
   },
   "source": [
    "<div class=\"alert alert-warning\" style=\"color:black\">\n",
    "    <h1> Activity 3: Testing your understanding</h1>\n",
    "    <h2> 20 marks</h2>\n",
    "    Run the cell below and answer the questions then press the <b>check</b> button to check your answers. <br>\n",
    "    When you submit your jupyter notebook for automated marking via blackboard, <br>\n",
    "    there will be similar questions for you to answer online.\n",
    "    </div>\n",
    "    \n",
    "\n",
    "     "
   ]
  },
  {
   "cell_type": "code",
   "execution_count": null,
   "metadata": {
    "pycharm": {
     "name": "#%%\n"
    }
   },
   "outputs": [],
   "source": [
    "import workbook3_utils as wb3\n",
    "\n",
    "reload(wb3)\n",
    "display(wb3.Q1)\n",
    "display(wb3.Q2)\n",
    "display(wb3.Q3)\n",
    "display(wb3.Q4)\n",
    "display(wb3.Q5)\n",
    "display(wb3.Q6)\n",
    "display(wb3.Q7)\n",
    "display(wb3.Q8)"
   ]
  },
  {
   "cell_type": "markdown",
   "metadata": {
    "pycharm": {
     "name": "#%% md\n"
    }
   },
   "source": [
    "<div class=\"alert alert-warning\" style=\"color:black\">\n",
    "    <h2> Activity 4: Testing your understanding by creating new instances to <it>break</it> algorithms</h2>\n",
    "    <h3> 10 Marks</h3>\n",
    "    <p> The cells below illustrate how to create a new instances of the path-finding problem by changing walls into paths or vice-versa.</p>\n",
    "    <p> The fourth cell also shows how to save an edited maze to file and then checks it load properly</p>\n",
    "    <p><b> Experiment with creating new mazes then:</b></p>\n",
    "    <ol>\n",
    "        <li> Create a maze in which depth-first search gets stuck in a loop<br>\n",
    "            and save your new maze to file called <i>maze-loop.txt</i> </li>\n",
    "        <li> Create a maze in which breadth-first search finds the goals in fewer trials than depth-first<br>\n",
    "            and save this to file <i>maze-odd.txt</i></li>\n",
    "    </ol>\n",
    "    </div>\n",
    "     "
   ]
  },
  {
   "cell_type": "code",
   "execution_count": null,
   "metadata": {
    "pycharm": {
     "name": "#%%\n"
    }
   },
   "outputs": [],
   "source": [
    "original = Maze(mazefile=\"maze.txt\")\n",
    "original.show_maze()\n",
    "search1 = DepthFirstSearch(original, constructive=True, max_attempts=1500)\n",
    "search1.run_search()\n",
    "print(\"first plot shows the initial maze\")\n",
    "print(\n",
    "    (\n",
    "        f\"{search1.__str__()} took {search1.trials} \"\n",
    "        f\"to find. solution of {len(search1.result)} moves\"\n",
    "    )\n",
    ")"
   ]
  },
  {
   "cell_type": "code",
   "execution_count": null,
   "metadata": {
    "pycharm": {
     "name": "#%%\n"
    }
   },
   "outputs": [],
   "source": [
    "# this is an example of how to make a hole in a wall\n",
    "# in this case underneath the entrance a few blocks down\n",
    "# the first value is for the row of the cell to change, the second for the column\n",
    "hole_in_wall = Maze(mazefile=\"maze.txt\")\n",
    "hole_in_wall.contents[8][10] = 1\n",
    "hole_in_wall.show_maze()\n",
    "\n",
    "search2 = DepthFirstSearch(hole_in_wall, constructive=True, max_attempts=1500)\n",
    "found = search2.run_search()\n",
    "print(\"second plot shows removing a wall cell\")\n",
    "if found:\n",
    "    print(\n",
    "        (\n",
    "            f\"{search2.__str__()} took {search2.trials} trials \"\n",
    "            f\"to find. solution of {len(search2.result)} moves\"\n",
    "        )\n",
    "    )\n",
    "else:\n",
    "    print(\"{search2.__str__()} search ran out of time\")"
   ]
  },
  {
   "cell_type": "code",
   "execution_count": null,
   "metadata": {
    "pycharm": {
     "name": "#%%\n"
    }
   },
   "outputs": [],
   "source": [
    "# and this turns a path into a wall\n",
    "new_wall = Maze(mazefile=\"maze.txt\")\n",
    "new_wall.contents[19][16] = 0\n",
    "new_wall.show_maze()\n",
    "\n",
    "search3 = DepthFirstSearch(new_wall, constructive=True, max_attempts=1500)\n",
    "search3.run_search()\n",
    "print(\"third plot shows creating a new wall cell near the bottom right\")\n",
    "print(\n",
    "    (\n",
    "        f\"{search3.__str__()} took {search3.trials} trials \"\n",
    "        f\"to find. solution of {len(search3.result)} moves\"\n",
    "    )\n",
    ")"
   ]
  },
  {
   "cell_type": "code",
   "execution_count": null,
   "metadata": {
    "pycharm": {
     "name": "#%%\n"
    }
   },
   "outputs": [],
   "source": [
    "# demonstration of saving edited maze and reloading\n",
    "reload(maze)\n",
    "from maze import Maze\n",
    "\n",
    "# load maze\n",
    "new_wall = Maze(mazefile=\"maze.txt\")\n",
    "\n",
    "# edit it\n",
    "new_wall.contents[19][16] = 0\n",
    "new_wall.show_maze()\n",
    "# save edited maze to new file\n",
    "new_wall.save_to_txt(\"maze-newwall.txt\")"
   ]
  },
  {
   "cell_type": "code",
   "execution_count": null,
   "metadata": {
    "pycharm": {
     "name": "#%%\n"
    }
   },
   "outputs": [],
   "source": [
    "# reload into new maze object\n",
    "reloaded_maze = Maze(mazefile=\"maze-newwall.txt\")\n",
    "# test they have the same contents\n",
    "assert reloaded_maze.contents == new_wall.contents\n",
    "print(\"the same\")"
   ]
  },
  {
   "cell_type": "markdown",
   "metadata": {
    "pycharm": {
     "name": "#%% md\n"
    }
   },
   "source": [
    "<div class=\"alert alert-block alert-danger\"> Please save your work (click the save icon) then shutdown the notebook when you have finished with this tutorial (menu->file->close and shutdown notebook</div>\n",
    "\n",
    "<div class=\"alert alert-block alert-danger\"> Remember to download and save your work if you are not running this notebook locally.</div>"
   ]
  }
 ],
 "metadata": {
  "kernelspec": {
   "display_name": "aienv",
   "language": "python",
   "name": "aienv"
  },
  "language_info": {
   "codemirror_mode": {
    "name": "ipython",
    "version": 3
   },
   "file_extension": ".py",
   "mimetype": "text/x-python",
   "name": "python",
   "nbconvert_exporter": "python",
   "pygments_lexer": "ipython3",
   "version": "3.11.6"
  }
 },
 "nbformat": 4,
 "nbformat_minor": 4
}