{
 "cells": [
  {
   "cell_type": "code",
   "execution_count": null,
   "metadata": {
    "collapsed": false,
    "jupyter": {
     "outputs_hidden": false
    },
    "pycharm": {
     "name": "#%%\n"
    }
   },
   "outputs": [],
   "source": [
    "import numpy as np\n",
    "\n",
    "class Node:\n",
    "    def __init__(self, value, left = None, right=None):\n",
    "        self.value = value\n",
    "        self.left = left\n",
    "        self.right = right\n",
    "    def __str__(self):\n",
    "        return f\"Node {self.value}\""
   ]
  },
  {
   "cell_type": "markdown",
   "source": [
    "# Depth-First Search\n",
    "#### https://skilled.dev/course/tree-traversal-in-order-pre-order-post-order\n",
    "#### https://www.youtube.com/watch?v=Sbciimd09h4\n",
    "#### https://www.youtube.com/watch?v=PMMc4VsIacU\n",
    "+ Using stack to handle data structure --> Last in First out"
   ],
   "metadata": {
    "collapsed": false,
    "pycharm": {
     "name": "#%% md\n"
    }
   }
  },
  {
   "cell_type": "code",
   "execution_count": null,
   "outputs": [],
   "source": [
    "\n",
    "def walk_pre_order(tree):\n",
    "    # Pre-order DFS : Visit and process its node immediately.\n",
    "    if tree is not None:\n",
    "        print(tree)\n",
    "        walk_pre_order(tree.left)\n",
    "        walk_pre_order(tree.right)\n",
    "\n",
    "def walk_in_order(tree):\n",
    "    # Pre-order DFS : Visit all child of current node and process from bottom up\n",
    "    if tree is not None:\n",
    "        walk_in_order(tree.left)\n",
    "        print(tree)\n",
    "        walk_in_order(tree.right)\n",
    "\n",
    "def walk_post_order(tree):\n",
    "    # Pre-order DFS : Visit all children of node and process before visit node itself\n",
    "    if tree is not None:\n",
    "        walk_post_order(tree.left)\n",
    "        walk_post_order(tree.right)\n",
    "        print(tree)\n",
    "\n",
    "def walk_iterative(tree, stack):\n",
    "    stack.append(tree)\n",
    "    while len(stack) > 0:\n",
    "        node = stack.pop()\n",
    "        if node is not None:\n",
    "            print(node)\n",
    "            stack.append(node.right)    # Reverse order, since this is stack (left will be taken out first then right)\n",
    "            stack.append(node.left)"
   ],
   "metadata": {
    "collapsed": false,
    "pycharm": {
     "name": "#%%\n"
    }
   }
  },
  {
   "cell_type": "code",
   "execution_count": null,
   "outputs": [],
   "source": [
    "mytree = Node(\"A\", left = Node(\"B\", left = Node(\"D\"), right = Node(\"E\")), \n",
    "              right = Node(\"C\", left = Node(\"F\"), right = Node(\"G\"))) \n",
    "print(mytree)\n",
    "print(mytree.left)\n",
    "print(mytree.right)\n",
    "print(mytree.left.left)\n",
    "print(mytree.right.right)"
   ],
   "metadata": {
    "collapsed": false,
    "pycharm": {
     "name": "#%%\n"
    }
   }
  },
  {
   "cell_type": "code",
   "execution_count": null,
   "outputs": [],
   "source": [
    "walk_pre_order(mytree)"
   ],
   "metadata": {
    "collapsed": false,
    "pycharm": {
     "name": "#%%\n"
    }
   }
  },
  {
   "cell_type": "code",
   "execution_count": null,
   "outputs": [],
   "source": [
    "walk_in_order(mytree)"
   ],
   "metadata": {
    "collapsed": false,
    "pycharm": {
     "name": "#%%\n"
    }
   }
  },
  {
   "cell_type": "code",
   "execution_count": null,
   "outputs": [],
   "source": [
    "walk_post_order(mytree)"
   ],
   "metadata": {
    "collapsed": false,
    "pycharm": {
     "name": "#%%\n"
    }
   }
  },
  {
   "cell_type": "code",
   "execution_count": null,
   "outputs": [],
   "source": [
    "walk_iterative(mytree, stack=[])"
   ],
   "metadata": {
    "collapsed": false,
    "pycharm": {
     "name": "#%%\n"
    }
   }
  },
  {
   "cell_type": "markdown",
   "source": [
    "# Breadth-First Search\n",
    "#### https://www.youtube.com/watch?v=POpkdEdmlbU\n",
    "#### https://skilled.dev/course/tree-traversal-in-order-pre-order-post-order\n",
    "#### https://www.youtube.com/watch?v=xlVX7dXLS64\n",
    "+ Using queue to handle data structure --> First in First out"
   ],
   "metadata": {
    "collapsed": false,
    "pycharm": {
     "name": "#%% md\n"
    }
   }
  },
  {
   "cell_type": "code",
   "execution_count": null,
   "outputs": [],
   "source": [
    "def bfs(node, queue):\n",
    "    queue.append(node)\n",
    "    while len(queue) > 0:\n",
    "        node = queue.pop(0)\n",
    "        if node is not None:\n",
    "            print(node)\n",
    "            queue.append(node.left)\n",
    "            queue.append(node.right)"
   ],
   "metadata": {
    "collapsed": false,
    "pycharm": {
     "name": "#%%\n"
    }
   }
  },
  {
   "cell_type": "code",
   "execution_count": null,
   "outputs": [],
   "source": [
    "bfs(mytree, queue=[])"
   ],
   "metadata": {
    "collapsed": false,
    "pycharm": {
     "name": "#%%\n"
    }
   }
  },
  {
   "cell_type": "code",
   "execution_count": null,
   "outputs": [],
   "source": [],
   "metadata": {
    "collapsed": false,
    "pycharm": {
     "name": "#%%\n"
    }
   }
  },
  {
   "cell_type": "markdown",
   "metadata": {
    "collapsed": false,
    "jupyter": {
     "outputs_hidden": false
    },
    "pycharm": {
     "name": "#%% md\n"
    }
   },
   "source": [
    "# Breadth-First Search\n",
    "#### https://www.youtube.com/watch?v=POpkdEdmlbU\n",
    "#### https://skilled.dev/course/tree-traversal-in-order-pre-order-post-order\n",
    "#### https://www.youtube.com/watch?v=xlVX7dXLS64\n",
    "+ Using queue to handle data structure --> First in First out"
   ]
  },
  {
   "cell_type": "code",
   "execution_count": null,
   "metadata": {
    "collapsed": false,
    "jupyter": {
     "outputs_hidden": false
    },
    "pycharm": {
     "name": "#%%\n"
    }
   },
   "outputs": [],
   "source": [
    "def bfs(node, queue):\n",
    "    queue.append(node)\n",
    "    while len(queue) > 0:\n",
    "        node = queue.pop(0)\n",
    "        if node is not None:\n",
    "            print(node)\n",
    "            queue.append(node.left)\n",
    "            queue.append(node.right)"
   ]
  },
  {
   "cell_type": "code",
   "execution_count": null,
   "metadata": {
    "collapsed": false,
    "jupyter": {
     "outputs_hidden": false
    },
    "pycharm": {
     "name": "#%%\n"
    }
   },
   "outputs": [],
   "source": [
    "bfs(mytree, queue=[])"
   ]
  },
  {
   "cell_type": "code",
   "execution_count": null,
   "metadata": {
    "collapsed": false,
    "jupyter": {
     "outputs_hidden": false
    },
    "pycharm": {
     "name": "#%%\n"
    }
   },
   "outputs": [],
   "source": []
  },
  {
   "cell_type": "markdown",
   "metadata": {
    "pycharm": {
     "name": "#%% md\n"
    }
   },
   "source": [
    "# Breadth-First Search\n",
    "#### https://www.youtube.com/watch?v=POpkdEdmlbU\n",
    "#### https://skilled.dev/course/tree-traversal-in-order-pre-order-post-order\n",
    "+ Using queue to handle data structure --> First in First out"
   ]
  },
  {
   "cell_type": "code",
   "execution_count": 35,
   "metadata": {
    "pycharm": {
     "name": "#%%\n"
    }
   },
   "outputs": [],
   "source": [
    "def bfs(node, queue):\n",
    "    queue.append(node)\n",
    "    while len(queue) > 0:\n",
    "        node = queue.pop(0)\n",
    "        if node is not None:\n",
    "            print(node)\n",
    "            queue.append(node.left)\n",
    "            queue.append(node.right)"
   ]
  },
  {
   "cell_type": "code",
   "execution_count": 36,
   "metadata": {
    "pycharm": {
     "name": "#%%\n"
    }
   },
   "outputs": [
    {
     "name": "stdout",
     "output_type": "stream",
     "text": [
      "Node A\n",
      "Node B\n",
      "Node C\n",
      "Node D\n",
      "Node E\n",
      "Node F\n",
      "Node G\n"
     ]
    }
   ],
   "source": [
    "bfs(mytree, queue=[])"
   ]
  },
  {
   "cell_type": "code",
   "execution_count": null,
   "metadata": {
    "pycharm": {
     "name": "#%%\n"
    }
   },
   "outputs": [],
   "source": []
  },
  {
   "cell_type": "code",
   "execution_count": null,
   "metadata": {
    "pycharm": {
     "name": "#%%\n"
    }
   },
   "outputs": [],
   "source": []
  }
 ],
 "metadata": {
  "kernelspec": {
   "display_name": "Python 3 (ipykernel)",
   "language": "python",
   "name": "python3"
  },
  "language_info": {
   "codemirror_mode": {
    "name": "ipython",
    "version": 3
   },
   "file_extension": ".py",
   "mimetype": "text/x-python",
   "name": "python",
   "nbconvert_exporter": "python",
   "pygments_lexer": "ipython3",
   "version": "3.8.5"
  }
 },
 "nbformat": 4,
 "nbformat_minor": 4
}