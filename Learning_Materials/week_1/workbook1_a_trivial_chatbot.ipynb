{
 "cells": [
  {
   "cell_type": "markdown",
   "metadata": {
    "pycharm": {
     "name": "#%% md\n"
    }
   },
   "source": [
    "# Workbook 1: Setting up jupyter and writing your first notebook\n",
    "\n",
    "If you are seeing this in your browser it means that you have successfully downloaded and run this notebook within your Jupiter environment.\n",
    "\n",
    "You should have watched the videos that explain how a note book works, and what the different types of cells are.\n",
    "\n",
    "If you haven't done that, on the modules blackboard go to:\n",
    "\n",
    "**Learning materials > Getting ready for the module: setting up Jupyter**\n",
    "\n",
    "- Please take the time to watch the video and run through the simple examples.\n",
    "- it is important to understand the effect of running and re-running different cells, and the order that you do that.\n",
    "\n",
    "This particular cell is a 'markdown' cell which we can use to show text on screen. \n",
    "- markdown cells are very useful to keep a record of what you are doing.\n",
    "\n",
    "You are now ready to start doing some coding.\n",
    "\n",
    "- What we are going to do start off with is to begin by creating a nice simple chat bot that will answer some trivial questions.\n",
    "- You're going to edit this chatbot within your Jupyter notebook's environment so that it can  answer different questions. \n",
    "- After that you will do some exercises finding out some useful things about the model and code them in AIML.\n",
    "- that should make your chatbot  answer them for you.\n",
    "<div class=\"alert alert-block alert-danger\"> <b>REMEMBER:</b> IF you are running the notebooks on the cloud server you need to click on the kernel menu and then change-kernel to'AIenv'.<br>\n",
    "IF you are running locally AND you created a virtual environment in Jupyter click on the kernel menu then change-kernel OR in VSCode use the kernel selector in the top-right hand corner.\n",
    "</div>"
   ]
  },
  {
   "cell_type": "markdown",
   "metadata": {
    "pycharm": {
     "name": "#%% md\n"
    }
   },
   "source": [
    "## What next the next cell does\n",
    "- the first two lines tells python to import three libraries:\n",
    " - one called 'aiml' which provides the functionality required by the AIML chatbot language.\n",
    " - the second contains the multiple choice questions you will do later\n",
    " - and the third lets us display multiple choice questions\n",
    "- the third line create the chatbot itself as a variable called 'myChatbot'"
   ]
  },
  {
   "cell_type": "code",
   "execution_count": 1,
   "metadata": {
    "pycharm": {
     "name": "#%%\n"
    }
   },
   "outputs": [],
   "source": [
    "import aiml, workbook1_mcq1\n",
    "from IPython.display import display\n",
    "\n",
    "# Create the kernel and learn AIML files\n",
    "myChatbot = aiml.Kernel()"
   ]
  },
  {
   "cell_type": "markdown",
   "metadata": {
    "pycharm": {
     "name": "#%% md\n"
    }
   },
   "source": [
    "## The next cell is where we will edit and save the knowledge base for our chatbot \n",
    "\n",
    "The first line starts with the symbols %% and is called a 'Magic'\n",
    "- Magics are a very handy way for a notebook to make calls outside the kernel\n",
    "- in this case it invokes a function called 'writefile' and whenever the cell runs, the contents from line 2 onwards are written into a file called myFirstChatbot.aiml\n",
    " - you should see this file appearing in the directory you are working in.\n",
    " - and when you edit the next cell and re-run it,  you should be able to see that the saved file changes.\n",
    " \n",
    "The rest of the file is in aiml - a form of xml. It saves your knowledge in the form of \"categories\" which represent rules.  \n",
    "Each category contains some basic parts:\n",
    " - A **pattern** - the exact form of words that the chatbot recognises to trigger the rule.\n",
    " - A **template** which is the output of the rule.\n",
    " \n",
    " - Each part is started and finished with a tag pair in angled brackets <> - just like html.\n",
    " \n",
    " - This example also displays how we can use the keyword tag-pair **random** , enclosing a list of <li> elements.\n",
    "    - We can **only** use a random list within a **template** \n",
    "    - It tells the chatbot to pick one of the list items at random as its output.\n",
    "    \n",
    "    \n",
    "    "
   ]
  },
  {
   "cell_type": "code",
   "execution_count": 2,
   "metadata": {
    "pycharm": {
     "name": "#%%\n"
    }
   },
   "outputs": [
    {
     "name": "stdout",
     "output_type": "stream",
     "text": [
      "Writing myFirstChatbot.aiml\n"
     ]
    }
   ],
   "source": [
    "%%writefile myFirstChatbot.aiml\n",
    "<aiml version=\"1.0.1\" encoding=\"UTF-8\">\n",
    "<!-- basic_chat.aiml -->\n",
    "\n",
    " <category>\n",
    "    <pattern> FOO * </pattern>\n",
    "    <template> <srai> <star/> </srai> </template>\n",
    "    </category>\n",
    "\n",
    "    <category>\n",
    "        <pattern>HELLO</pattern>\n",
    "        <template>\n",
    "            Well, hello!\n",
    "        </template>\n",
    "    </category>\n",
    "    \n",
    "    <category>\n",
    "        <pattern>WHAT ARE YOU</pattern>\n",
    "        <template>\n",
    "            I'm a bot, silly!\n",
    "        </template>\n",
    "    </category>\n",
    "    \n",
    "    <category>\n",
    "        <pattern> IS THIS ALL THERE IS</pattern>\n",
    "        <template> I AM AFRAID SO </template>\n",
    "    </category>\n",
    "    \n",
    "    <category>\n",
    "        <pattern> do you have any suggestions for improving this </pattern>\n",
    "        <template> \n",
    "            <random>\n",
    "            <li> use ipywidgets to make the user interface fancier</li>\n",
    "            <li> finding a way of making the system show a trece of what it has matched and why for an input </li>\n",
    "            \n",
    "            </random>\n",
    "        </template>\n",
    "    </category>\n",
    "    \n",
    "    <category>\n",
    "        <pattern> WHAT IS LEFT </pattern>\n",
    "        <template> \n",
    "            <srai> IS THIS ALL THERE IS </srai> \n",
    "        </template>\n",
    "    \n",
    "    </category>\n",
    "    \n",
    "    <category>\n",
    "        <pattern> WHAT IS YOUR NAME</pattern>\n",
    "        <template> MY NAME IS UWE-BOT</template>\n",
    "    </category>\n",
    "    \n",
    "    <category>\n",
    "        <pattern> DO NOT PRETEND YOU ARE HUMAN </pattern>\n",
    "        <template> IT WAS WORTH A TRY </template>\n",
    "    </category>    \n",
    "            \n",
    "    \n",
    "</aiml>\n",
    "\n",
    "\n"
   ]
  },
  {
   "cell_type": "markdown",
   "metadata": {
    "pycharm": {
     "name": "#%% md\n"
    }
   },
   "source": [
    "## Next we will tell the chatbot to learn what we have coded, and then present an interactive dialogue\n",
    "\n",
    "- Lines 1-3 load the chatbot and print out how many categories it has learned\n",
    " \n",
    "- Then we declare a variable called 'keep going' that we will use to finish our chat session\n",
    " \n",
    "- Finally we go into a while loop:\n",
    " - asking for an input.\n",
    " - checking if the user wants to finish.\n",
    " - otherwise:\n",
    "  - trying to provide an answer to what you type.\n",
    "  - and then moving on to the next input"
   ]
  },
  {
   "cell_type": "code",
   "execution_count": null,
   "metadata": {
    "pycharm": {
     "name": "#%%\n"
    }
   },
   "outputs": [
    {
     "name": "stdout",
     "output_type": "stream",
     "text": [
      "Loading myFirstChatbot.aiml...done (0.01 seconds)\n",
      "Successfuly loaded 8 categories\n"
     ]
    },
    {
     "name": "stdin",
     "output_type": "stream",
     "text": [
      "Enter your message >>  654\n"
     ]
    },
    {
     "name": "stderr",
     "output_type": "stream",
     "text": [
      "WARNING: No match found for input: 654\n"
     ]
    },
    {
     "name": "stdout",
     "output_type": "stream",
     "text": [
      "\n"
     ]
    },
    {
     "name": "stdin",
     "output_type": "stream",
     "text": [
      "Enter your message >>  lets go of me\n"
     ]
    },
    {
     "name": "stderr",
     "output_type": "stream",
     "text": [
      "WARNING: No match found for input: lets go of me\n"
     ]
    },
    {
     "name": "stdout",
     "output_type": "stream",
     "text": [
      "\n"
     ]
    }
   ],
   "source": [
    "myChatbot.learn(\"myFirstChatbot.aiml\")\n",
    "myChatbot.verbose(True)\n",
    "print( \"Successfuly loaded {} categories\".format(myChatbot.numCategories()))\n",
    "\n",
    "#type stop to end the chat session\n",
    "keepGoing = True\n",
    "\n",
    "while keepGoing:\n",
    "    nextInput = input(\"Enter your message >> \")\n",
    "    if(nextInput == 'bye'):\n",
    "        keepGoing = False\n",
    "    else:\n",
    "        print (myChatbot.respond(nextInput))"
   ]
  },
  {
   "cell_type": "markdown",
   "metadata": {
    "pycharm": {
     "name": "#%% md\n"
    }
   },
   "source": [
    "<div class = \"alert alert-warning\" style= \"color:black\">\n",
    "    <h2>Activity 1: Experiment to find out how the chatbot preprocesses your input</h2>\n",
    "    You may have noticed that the patterns on the categories are all in upper case.\n",
    "\n",
    "Internally, the chatbot 'pre-processes' your input before it tries to match it.\n",
    "\n",
    "**Task 1** Experiment with using lower and upper case, and different punctuation, to see if you can work out what is happening.\n",
    "Then run the cells below to answer some questions on what you have learned\n",
    "    </div>\n",
    "\n"
   ]
  },
  {
   "cell_type": "code",
   "execution_count": null,
   "metadata": {
    "code_folding": [
     1
    ],
    "pycharm": {
     "name": "#%%\n"
    }
   },
   "outputs": [],
   "source": [
    "display(workbook1_mcq1.Q1)\n"
   ]
  },
  {
   "cell_type": "code",
   "execution_count": null,
   "metadata": {
    "pycharm": {
     "name": "#%%\n"
    }
   },
   "outputs": [],
   "source": [
    "display (workbook1_mcq1.Q2)"
   ]
  },
  {
   "cell_type": "code",
   "execution_count": null,
   "metadata": {
    "pycharm": {
     "name": "#%%\n"
    }
   },
   "outputs": [],
   "source": [
    "display(workbook1_mcq1.Q3)"
   ]
  },
  {
   "cell_type": "code",
   "execution_count": null,
   "metadata": {
    "pycharm": {
     "name": "#%%\n"
    }
   },
   "outputs": [],
   "source": [
    "display(workbook1_mcq1.Q4)"
   ]
  },
  {
   "cell_type": "code",
   "execution_count": null,
   "metadata": {
    "pycharm": {
     "name": "#%%\n"
    }
   },
   "outputs": [],
   "source": [
    "display(workbook1_mcq1.Q5)"
   ]
  },
  {
   "cell_type": "code",
   "execution_count": null,
   "metadata": {
    "pycharm": {
     "name": "#%%\n"
    }
   },
   "outputs": [],
   "source": [
    "display(workbook1_mcq1.Q6)"
   ]
  },
  {
   "cell_type": "code",
   "execution_count": null,
   "metadata": {
    "pycharm": {
     "name": "#%%\n"
    }
   },
   "outputs": [],
   "source": [
    "display(workbook1_mcq1.Q7)"
   ]
  },
  {
   "cell_type": "code",
   "execution_count": null,
   "metadata": {
    "pycharm": {
     "name": "#%%\n"
    }
   },
   "outputs": [],
   "source": [
    "display(workbook1_mcq1.Q8)"
   ]
  },
  {
   "cell_type": "code",
   "execution_count": null,
   "metadata": {
    "pycharm": {
     "name": "#%%\n"
    }
   },
   "outputs": [],
   "source": [
    "display(workbook1_mcq1.Q9)"
   ]
  },
  {
   "cell_type": "markdown",
   "metadata": {
    "pycharm": {
     "name": "#%% md\n"
    }
   },
   "source": [
    "# Debugging your chatbot:\n",
    "\n",
    "Debugging chatbots, like any other complex rule -based system, can be tricky.\n",
    "Some tools (especially pandorabots) provide you with more help than this python implementation does.\n",
    "\n",
    "From more than ten years experience teaching students AIML,  the main things to look out for are:\n",
    "- punctuation in your input\n",
    "- punctuation in patterns for categories you write.\n",
    "\n",
    "<div class = \"alert alert-warning\" style= \"color:black\"> <h2>Activitity 2: Thought exercise</h2>\n",
    "    Will the pattern below ever get matched?\n",
    "\n",
    "&lt;category&gt;  \n",
    "    &lt; pattern> WILL THIS BE MATCHED ? &lt;/pattern&gt;  \n",
    "    &lt;template&gt; Try it and come up with an explanation. &lt;/template&gt;  \n",
    " &lt;/category>     \n",
    "    </div>\n"
   ]
  },
  {
   "cell_type": "markdown",
   "metadata": {
    "pycharm": {
     "name": "#%% md\n"
    }
   },
   "source": [
    "<div class = \"alert alert-warning\" style= \"color:black\">\n",
    "    <h2>Activity 3: Adding information to your chatbot</h2>\n",
    "It's time for you to start coding your first knowledge into a chatbot.\n",
    "<ul> \n",
    "    <li>Answers to the  following questions can all be found in the module blackboard site.</li>\n",
    " <li> We suggest that you just copy-paste-edit  the first simple category in the AIML cell above to make your bot answer the questions.</li>\n",
    "    </ul>\n",
    " <ol>\n",
    "     <li> When is the coursework submission deadline?</li>\n",
    "     <li> What is the name of the automated marking and feedback system?</li>\n",
    "     <li>How many Learning Outcomes does this module have?</li>\n",
    "    </ol>\n",
    " </div>\n",
    " \n",
    "\n",
    "### Don't forget \n",
    " - stop your current bot session by typing bye before you edit the AIML cell\n",
    " - run the aiml cell once you have edited it\n",
    " - then rerun the cell with the bot in it\n",
    " - if you get really stuck you can do Kernel-> 'Restart and Clear Output' from the notebook menu\n",
    "\n",
    "\n",
    "<div class=\"alert alert-block alert-danger\"> Please save your work (click the save icon) then shutdown the notebook when you have finished with this tutorial (menu->file->close and shutdown notebook)</div>\n",
    "<div class=\"alert alert-block alert-danger\"> Remember to download and save you work if you are not running this notebook locally.</div>\n",
    "\n"
   ]
  },
  {
   "cell_type": "code",
   "execution_count": null,
   "metadata": {
    "pycharm": {
     "name": "#%%\n"
    }
   },
   "outputs": [],
   "source": []
  },
  {
   "cell_type": "code",
   "execution_count": null,
   "metadata": {
    "pycharm": {
     "name": "#%%\n"
    }
   },
   "outputs": [],
   "source": []
  }
 ],
 "metadata": {
  "kernelspec": {
   "display_name": "Python 3 (ipykernel)",
   "language": "python",
   "name": "python3"
  },
  "language_info": {
   "codemirror_mode": {
    "name": "ipython",
    "version": 3
   },
   "file_extension": ".py",
   "mimetype": "text/x-python",
   "name": "python",
   "nbconvert_exporter": "python",
   "pygments_lexer": "ipython3",
   "version": "3.8.5"
  }
 },
 "nbformat": 4,
 "nbformat_minor": 4
}